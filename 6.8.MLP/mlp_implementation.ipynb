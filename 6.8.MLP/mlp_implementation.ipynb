{
 "cells": [
  {
   "cell_type": "code",
   "execution_count": 129,
   "metadata": {},
   "outputs": [],
   "source": [
    "import numpy as np\n",
    "from sklearn.datasets import load_digits\n",
    "from sklearn.model_selection import train_test_split\n",
    "from sklearn.metrics import precision_score, recall_score\n",
    "import matplotlib.pyplot as plt\n",
    "from tqdm import tqdm"
   ]
  },
  {
   "cell_type": "code",
   "execution_count": 116,
   "metadata": {},
   "outputs": [
    {
     "data": {
      "text/plain": [
       "((1437, 64), (360, 64), (1437, 10), (360, 10))"
      ]
     },
     "execution_count": 116,
     "metadata": {},
     "output_type": "execute_result"
    }
   ],
   "source": [
    "df = load_digits()\n",
    "X = df.data\n",
    "Y = df.target\n",
    "Y = np.eye(10)[Y] # one hot\n",
    "\n",
    "X_train, X_test, y_train, y_test = train_test_split(X, Y, test_size=.2)\n",
    "X_train.shape, X_test.shape, y_train.shape, y_test.shape"
   ]
  },
  {
   "cell_type": "code",
   "execution_count": 117,
   "metadata": {},
   "outputs": [],
   "source": [
    "def sigmoid(X):\n",
    "    return 1 / (1 + np.exp(-X))\n",
    "\n",
    "def softmax(X):\n",
    "    return np.exp(X) / np.sum(np.exp(X))\n",
    "\n",
    "def root_mean_squared_error(y_gt, y_pred):\n",
    "    return np.sqrt(np.mean((y_gt - y_pred) ** 2))"
   ]
  },
  {
   "cell_type": "code",
   "execution_count": 118,
   "metadata": {},
   "outputs": [],
   "source": [
    "epochs = 80\n",
    "lr = .001 \n",
    "\n",
    "D_in = X_train.shape[1] # input count (64 input)\n",
    "H1 = 128 # Hidden layer 1\n",
    "H2 = 32 # Hidden layer 2\n",
    "D_out = y_train.shape[1] # 10 class"
   ]
  },
  {
   "cell_type": "code",
   "execution_count": 119,
   "metadata": {},
   "outputs": [],
   "source": [
    "w1 = np.random.randn(D_in, H1)\n",
    "w2 = np.random.randn(H1,H2)\n",
    "w3 = np.random.randn(H2,D_out)"
   ]
  },
  {
   "cell_type": "code",
   "execution_count": 120,
   "metadata": {},
   "outputs": [],
   "source": [
    "B1 = np.random.randn(1, H1)\n",
    "B2 = np.random.randn(1, H2)\n",
    "B3 = np.random.randn(1, D_out)"
   ]
  },
  {
   "cell_type": "code",
   "execution_count": 133,
   "metadata": {},
   "outputs": [],
   "source": [
    "def precision_recall(y_true, y_pred, num_classes):\n",
    "    \n",
    "    for cls in range(num_classes):\n",
    "        TP = sum((y_true == cls) & (y_pred == cls))  # True Positives\n",
    "        FP = sum((y_true != cls) & (y_pred == cls))  # False Positives\n",
    "        FN = sum((y_true == cls) & (y_pred != cls))  # False Negatives\n",
    "        \n",
    "        precision = TP / (TP + FP) if (TP + FP) > 0 else 0\n",
    "        recall = TP / (TP + FN) if (TP + FN) > 0 else 0\n",
    "    \n",
    "    return {'Precision': precision, 'Recall': recall}"
   ]
  },
  {
   "cell_type": "code",
   "execution_count": 125,
   "metadata": {},
   "outputs": [
    {
     "name": "stdout",
     "output_type": "stream",
     "text": [
      "0.9416666666666667\n",
      "0.9416666666666667\n",
      "0.9416666666666667\n",
      "0.9416666666666667\n",
      "0.9388888888888889\n",
      "0.9388888888888889\n",
      "0.9388888888888889\n",
      "0.9388888888888889\n",
      "0.9388888888888889\n",
      "0.9388888888888889\n",
      "0.9388888888888889\n",
      "0.9388888888888889\n",
      "0.9388888888888889\n",
      "0.9388888888888889\n",
      "0.9388888888888889\n",
      "0.9388888888888889\n",
      "0.9416666666666667\n",
      "0.9416666666666667\n",
      "0.9416666666666667\n",
      "0.9416666666666667\n",
      "0.9416666666666667\n",
      "0.9416666666666667\n",
      "0.9416666666666667\n",
      "0.9416666666666667\n",
      "0.9416666666666667\n",
      "0.9416666666666667\n",
      "0.9416666666666667\n",
      "0.9416666666666667\n",
      "0.9416666666666667\n",
      "0.9416666666666667\n",
      "0.9416666666666667\n",
      "0.9416666666666667\n",
      "0.9416666666666667\n",
      "0.9416666666666667\n",
      "0.9416666666666667\n",
      "0.9416666666666667\n",
      "0.9416666666666667\n",
      "0.9416666666666667\n",
      "0.9388888888888889\n",
      "0.9388888888888889\n",
      "0.9388888888888889\n",
      "0.9388888888888889\n",
      "0.9416666666666667\n",
      "0.9416666666666667\n",
      "0.9416666666666667\n",
      "0.9444444444444444\n",
      "0.9444444444444444\n",
      "0.9444444444444444\n",
      "0.9444444444444444\n",
      "0.9444444444444444\n",
      "0.9444444444444444\n",
      "0.9472222222222222\n",
      "0.9472222222222222\n",
      "0.9472222222222222\n",
      "0.9472222222222222\n",
      "0.9472222222222222\n",
      "0.9472222222222222\n",
      "0.9472222222222222\n",
      "0.9472222222222222\n",
      "0.9472222222222222\n",
      "0.9444444444444444\n",
      "0.9444444444444444\n",
      "0.9444444444444444\n",
      "0.9444444444444444\n",
      "0.9444444444444444\n",
      "0.9444444444444444\n",
      "0.9444444444444444\n",
      "0.9444444444444444\n",
      "0.9444444444444444\n",
      "0.9444444444444444\n",
      "0.9444444444444444\n",
      "0.9444444444444444\n",
      "0.9444444444444444\n",
      "0.9444444444444444\n",
      "0.9444444444444444\n",
      "0.9416666666666667\n",
      "0.9416666666666667\n",
      "0.9416666666666667\n",
      "0.9416666666666667\n",
      "0.9416666666666667\n"
     ]
    }
   ],
   "source": [
    "for epoch in range(epochs):\n",
    "    Y_pred_train = []\n",
    "\n",
    "    # train\n",
    "    for x, y in zip(X_train, y_train):\n",
    "        x = x.reshape(-1, 1)\n",
    "        # forward \n",
    "        ## Layer 1\n",
    "        layer1_out = sigmoid(x.T @ w1 + B1)\n",
    "        ## Layer 2\n",
    "        layer2_out = sigmoid(layer1_out @ w2 + B2)\n",
    "        ## Layer 3\n",
    "        layer3_out = softmax(layer2_out @ w3 + B3) \n",
    "        y_pred = layer3_out \n",
    "        Y_pred_train.append(y_pred)\n",
    "\n",
    "        \n",
    "    \n",
    "\n",
    "\n",
    "        # backpropagation - باید مشتق بگیریم\n",
    "        ## Layer 3\n",
    "        error = -2 * (y - y_pred)\n",
    "        grad_B3 = error\n",
    "        grad_w3 = error * layer2_out.T\n",
    "        ## Layer 2\n",
    "        error = error @ w3.T * layer2_out * (1 - layer2_out)\n",
    "        grad_B2 = error\n",
    "        grad_w2 = layer1_out.T @ error \n",
    "        ## Layer 1\n",
    "        error = error @ w2.T * layer1_out * (1 - layer1_out)\n",
    "        grad_B1 = error\n",
    "        grad_w1 = x @ error  \n",
    "\n",
    "\n",
    "        # update\n",
    "        ## Layer 1\n",
    "        w1 -= lr * grad_w1\n",
    "        B1 -= lr * grad_B1\n",
    "        ## Layer 3\n",
    "        w2 -= lr * grad_w2\n",
    "        B2 -= lr * grad_B2\n",
    "        ## Layer 3\n",
    "        w3 -= lr * grad_w3\n",
    "        B3 -= lr * grad_B3\n",
    "\n",
    "\n",
    "        # acc = ...\n",
    "        # loss = ...\n",
    "    \n",
    "    Y_pred_test = []\n",
    "    for x, y in zip(X_test, y_test):\n",
    "        x = x.reshape(-1, 1)\n",
    "        # forward \n",
    "        ## Layer 1\n",
    "        layer1_out = sigmoid(x.T @ w1 + B1)\n",
    "        ## Layer 2\n",
    "        layer2_out = sigmoid(layer1_out @ w2 + B2)\n",
    "        ## Layer 3\n",
    "        layer3_out = softmax(layer2_out @ w3 + B3) \n",
    "        y_pred = layer3_out \n",
    "        Y_pred_test.append(y_pred)\n",
    "\n",
    "   \n",
    "    \n",
    "    Y_pred_test = np.array(Y_pred_test).reshape(-1, 10)\n",
    "    y_pred_labels = np.argmax(Y_pred_test, axis=1)\n",
    "    y_test_labels = np.argmax(y_test, axis=1)\n",
    "    \n",
    "\n",
    "    loss_test = root_mean_squared_error(y_test, Y_pred_test)\n",
    "    accuracy_test = np.sum(np.argmax(y_test, axis= 1) == np.argmax(Y_pred_test, axis=1)) / len(y_test)\n",
    "    print(accuracy_test)\n",
    "\n"
   ]
  },
  {
   "cell_type": "code",
   "execution_count": 137,
   "metadata": {},
   "outputs": [
    {
     "name": "stdout",
     "output_type": "stream",
     "text": [
      "{'Precision': 0.9393939393939394, 'Recall': 0.8857142857142857}\n",
      "Precision Sklearn: 0.9424267997497738\n",
      "Recall Sklearn: 0.9413497306956609\n"
     ]
    }
   ],
   "source": [
    "metrics = precision_recall(y_test_labels, y_pred_labels, num_classes=10)\n",
    "print(metrics)\n",
    "\n",
    "precision = precision_score(y_test_labels, y_pred_labels, average='macro')\n",
    "recall = recall_score(y_test_labels, y_pred_labels, average='macro')\n",
    "print(f\"Precision Sklearn: {precision}\\nRecall Sklearn: {recall}\")"
   ]
  },
  {
   "cell_type": "code",
   "execution_count": null,
   "metadata": {},
   "outputs": [],
   "source": [
    "# import cv2\n",
    "\n",
    "# img = cv2.imread('input/seven.png')\n",
    "# img = cv2.cvtColor(img, cv2.COLOR_BGR2GRAY)\n",
    "# img = img.reshape(64,1)\n",
    "\n",
    "# x = img\n",
    "\n",
    "\n",
    "# # forward \n",
    "# ## Layer 1\n",
    "# layer1_out = sigmoid(x.T @ w1 + B1)\n",
    "# ## Layer 2\n",
    "# layer2_out = sigmoid(layer1_out @ w2 + B2)\n",
    "# ## Layer 3\n",
    "# layer3_out = softmax(layer2_out @ w3 + B3) \n",
    "# y_pred = layer3_out \n",
    "# print(np.argmax(y_pred))\n"
   ]
  }
 ],
 "metadata": {
  "kernelspec": {
   "display_name": "Python 3",
   "language": "python",
   "name": "python3"
  },
  "language_info": {
   "codemirror_mode": {
    "name": "ipython",
    "version": 3
   },
   "file_extension": ".py",
   "mimetype": "text/x-python",
   "name": "python",
   "nbconvert_exporter": "python",
   "pygments_lexer": "ipython3",
   "version": "3.11.8"
  }
 },
 "nbformat": 4,
 "nbformat_minor": 2
}
