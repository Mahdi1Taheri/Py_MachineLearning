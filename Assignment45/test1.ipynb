{
 "cells": [
  {
   "cell_type": "code",
   "execution_count": 41,
   "metadata": {},
   "outputs": [],
   "source": [
    "import pandas as pd\n",
    "\n",
    "# Sample dataset (make sure your date column is in datetime format)\n",
    "data = pd.read_csv('input\\Dollar_Rial_Price_Dataset.csv')\n",
    "df = data.copy() # Ensure 'Date' is in datetime format\n",
    "df['Date'] = pd.to_datetime(df['Date'])\n",
    "df['Close'] = df['Close'].str.replace(',', '')\n",
    "df['Close'] = df['Close'].astype('int')\n",
    "# List of presidency date ranges\n",
    "presidency_periods = [\n",
    "    {'president': 'Ahmadinejad', 'start': '2005-08-03', 'end': '2013-08-03'},\n",
    "    {'president': 'Rouhani', 'start': '2013-08-04', 'end': '2021-08-03'},\n",
    "    {'president': 'Raisi', 'start': '2021-08-04', 'end': '2024-05-19'}\n",
    "]\n",
    "\n",
    "# Add a new column for presidents\n",
    "def get_president(date):\n",
    "    for period in presidency_periods:\n",
    "        if (pd.to_datetime(period['start']) <= date <= pd.to_datetime(period['end'])):\n",
    "            return period['president']\n",
    "    return 'Unknown'\n",
    "\n",
    "df['President'] = df['Date'].apply(get_president)\n"
   ]
  },
  {
   "cell_type": "code",
   "execution_count": 34,
   "metadata": {},
   "outputs": [],
   "source": [
    "\n",
    "# data['Close'] = data"
   ]
  },
  {
   "cell_type": "code",
   "execution_count": 42,
   "metadata": {},
   "outputs": [
    {
     "data": {
      "text/html": [
       "<div>\n",
       "<style scoped>\n",
       "    .dataframe tbody tr th:only-of-type {\n",
       "        vertical-align: middle;\n",
       "    }\n",
       "\n",
       "    .dataframe tbody tr th {\n",
       "        vertical-align: top;\n",
       "    }\n",
       "\n",
       "    .dataframe thead th {\n",
       "        text-align: right;\n",
       "    }\n",
       "</style>\n",
       "<table border=\"1\" class=\"dataframe\">\n",
       "  <thead>\n",
       "    <tr style=\"text-align: right;\">\n",
       "      <th></th>\n",
       "      <th>Unnamed: 0</th>\n",
       "      <th>Date</th>\n",
       "      <th>Persian_Date</th>\n",
       "      <th>Open</th>\n",
       "      <th>Low</th>\n",
       "      <th>High</th>\n",
       "      <th>Close</th>\n",
       "      <th>President</th>\n",
       "    </tr>\n",
       "  </thead>\n",
       "  <tbody>\n",
       "    <tr>\n",
       "      <th>347</th>\n",
       "      <td>347</td>\n",
       "      <td>2013-01-31</td>\n",
       "      <td>1391/11/12</td>\n",
       "      <td>37,800</td>\n",
       "      <td>37,800</td>\n",
       "      <td>38,900</td>\n",
       "      <td>38900</td>\n",
       "      <td>Ahmadinejad</td>\n",
       "    </tr>\n",
       "    <tr>\n",
       "      <th>3257</th>\n",
       "      <td>3257</td>\n",
       "      <td>2023-05-01</td>\n",
       "      <td>1402/02/11</td>\n",
       "      <td>548,860</td>\n",
       "      <td>548,800</td>\n",
       "      <td>555,600</td>\n",
       "      <td>550510</td>\n",
       "      <td>Raisi</td>\n",
       "    </tr>\n",
       "    <tr>\n",
       "      <th>2627</th>\n",
       "      <td>2627</td>\n",
       "      <td>2020-10-18</td>\n",
       "      <td>1399/07/27</td>\n",
       "      <td>317,030</td>\n",
       "      <td>316,950</td>\n",
       "      <td>320,060</td>\n",
       "      <td>318560</td>\n",
       "      <td>Rouhani</td>\n",
       "    </tr>\n",
       "  </tbody>\n",
       "</table>\n",
       "</div>"
      ],
      "text/plain": [
       "      Unnamed: 0       Date Persian_Date     Open      Low     High   Close  \\\n",
       "347          347 2013-01-31   1391/11/12   37,800   37,800   38,900   38900   \n",
       "3257        3257 2023-05-01   1402/02/11  548,860  548,800  555,600  550510   \n",
       "2627        2627 2020-10-18   1399/07/27  317,030  316,950  320,060  318560   \n",
       "\n",
       "        President  \n",
       "347   Ahmadinejad  \n",
       "3257        Raisi  \n",
       "2627      Rouhani  "
      ]
     },
     "execution_count": 42,
     "metadata": {},
     "output_type": "execute_result"
    }
   ],
   "source": [
    "grouped_mean = df.groupby('President')['Close'].idxmax()\n",
    "df.loc[grouped_mean]"
   ]
  },
  {
   "cell_type": "code",
   "execution_count": 40,
   "metadata": {},
   "outputs": [
    {
     "data": {
      "text/plain": [
       "President\n",
       "Rouhani    99900\n",
       "Name: Close, dtype: object"
      ]
     },
     "execution_count": 40,
     "metadata": {},
     "output_type": "execute_result"
    }
   ],
   "source": [
    "rouhani_df = df[df['President'] == 'Rouhani']\n",
    "rouhani_df.groupby('President')['Close'].max()"
   ]
  },
  {
   "cell_type": "code",
   "execution_count": 43,
   "metadata": {},
   "outputs": [
    {
     "name": "stdout",
     "output_type": "stream",
     "text": [
      "   DollarPrice DollarPrice_with_commas\n",
      "0        25000                  25,000\n",
      "1       300000                 300,000\n",
      "2      4500000               4,500,000\n",
      "3        55000                  55,000\n"
     ]
    }
   ],
   "source": [
    "import pandas as pd\n",
    "\n",
    "# Sample dataset\n",
    "data = {'DollarPrice': [25000, 300000, 4500000, 55000]}\n",
    "df = pd.DataFrame(data)\n",
    "\n",
    "# Convert the 'DollarPrice' column to int (or ensure it's numeric)\n",
    "df['DollarPrice'] = df['DollarPrice'].astype(int)\n",
    "\n",
    "# Use Python's string formatting to add commas\n",
    "df['DollarPrice_with_commas'] = df['DollarPrice'].apply(lambda x: \"{:,}\".format(x))\n",
    "\n",
    "print(df)\n"
   ]
  }
 ],
 "metadata": {
  "kernelspec": {
   "display_name": "Python 3",
   "language": "python",
   "name": "python3"
  },
  "language_info": {
   "codemirror_mode": {
    "name": "ipython",
    "version": 3
   },
   "file_extension": ".py",
   "mimetype": "text/x-python",
   "name": "python",
   "nbconvert_exporter": "python",
   "pygments_lexer": "ipython3",
   "version": "3.11.8"
  }
 },
 "nbformat": 4,
 "nbformat_minor": 2
}
