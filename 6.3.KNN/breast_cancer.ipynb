{
 "cells": [
  {
   "cell_type": "code",
   "execution_count": 1,
   "metadata": {},
   "outputs": [],
   "source": [
    "from sklearn import datasets\n",
    "from sklearn.model_selection import train_test_split\n",
    "from sklearn.neighbors import KNeighborsClassifier\n",
    "from sklearn import metrics\n",
    "import matplotlib.pyplot as plt\n",
    "import numpy as np\n",
    "import pandas as pd\n",
    "import seaborn as sb\n",
    "from knn import KNN"
   ]
  },
  {
   "cell_type": "code",
   "execution_count": 2,
   "metadata": {},
   "outputs": [],
   "source": [
    "breastc = datasets.load_breast_cancer()\n",
    "\n",
    "X = breastc.data\n",
    "Y = breastc.target\n",
    "\n",
    "X_train, X_test, Y_train, Y_test = train_test_split(X,Y,test_size=.2)"
   ]
  },
  {
   "cell_type": "code",
   "execution_count": 3,
   "metadata": {},
   "outputs": [
    {
     "data": {
      "text/html": [
       "<style type=\"text/css\">\n",
       "</style>\n",
       "<table id=\"T_50b5a\">\n",
       "  <thead>\n",
       "    <tr>\n",
       "      <th class=\"blank level0\" >&nbsp;</th>\n",
       "      <th id=\"T_50b5a_level0_col0\" class=\"col_heading level0 col0\" >k</th>\n",
       "      <th id=\"T_50b5a_level0_col1\" class=\"col_heading level0 col1\" >accuracy</th>\n",
       "    </tr>\n",
       "  </thead>\n",
       "  <tbody>\n",
       "    <tr>\n",
       "      <th id=\"T_50b5a_level0_row0\" class=\"row_heading level0 row0\" >0</th>\n",
       "      <td id=\"T_50b5a_row0_col0\" class=\"data row0 col0\" >3</td>\n",
       "      <td id=\"T_50b5a_row0_col1\" class=\"data row0 col1\" >93.01%</td>\n",
       "    </tr>\n",
       "    <tr>\n",
       "      <th id=\"T_50b5a_level0_row1\" class=\"row_heading level0 row1\" >1</th>\n",
       "      <td id=\"T_50b5a_row1_col0\" class=\"data row1 col0\" >5</td>\n",
       "      <td id=\"T_50b5a_row1_col1\" class=\"data row1 col1\" >94.41%</td>\n",
       "    </tr>\n",
       "    <tr>\n",
       "      <th id=\"T_50b5a_level0_row2\" class=\"row_heading level0 row2\" >2</th>\n",
       "      <td id=\"T_50b5a_row2_col0\" class=\"data row2 col0\" >7</td>\n",
       "      <td id=\"T_50b5a_row2_col1\" class=\"data row2 col1\" >94.41%</td>\n",
       "    </tr>\n",
       "    <tr>\n",
       "      <th id=\"T_50b5a_level0_row3\" class=\"row_heading level0 row3\" >3</th>\n",
       "      <td id=\"T_50b5a_row3_col0\" class=\"data row3 col0\" >9</td>\n",
       "      <td id=\"T_50b5a_row3_col1\" class=\"data row3 col1\" >93.71%</td>\n",
       "    </tr>\n",
       "    <tr>\n",
       "      <th id=\"T_50b5a_level0_row4\" class=\"row_heading level0 row4\" >4</th>\n",
       "      <td id=\"T_50b5a_row4_col0\" class=\"data row4 col0\" >11</td>\n",
       "      <td id=\"T_50b5a_row4_col1\" class=\"data row4 col1\" >94.41%</td>\n",
       "    </tr>\n",
       "    <tr>\n",
       "      <th id=\"T_50b5a_level0_row5\" class=\"row_heading level0 row5\" >5</th>\n",
       "      <td id=\"T_50b5a_row5_col0\" class=\"data row5 col0\" >13</td>\n",
       "      <td id=\"T_50b5a_row5_col1\" class=\"data row5 col1\" >94.41%</td>\n",
       "    </tr>\n",
       "  </tbody>\n",
       "</table>\n"
      ],
      "text/plain": [
       "<pandas.io.formats.style.Styler at 0x1983cf18a50>"
      ]
     },
     "execution_count": 3,
     "metadata": {},
     "output_type": "execute_result"
    }
   ],
   "source": [
    "accuracy_results = []\n",
    "\n",
    "for k in [3,5,7,9,11,13]:\n",
    "    knn = KNN(k=k)\n",
    "    knn.fit(X_train, Y_train)\n",
    "    accuracy = knn.evaluate(X_test, Y_test)\n",
    "    formatted_accuracy = '{:.2f}%'.format(accuracy*100)\n",
    "    accuracy_results.append({'k': k, 'accuracy': formatted_accuracy})\n",
    "\n",
    "results_df = pd.DataFrame(accuracy_results)\n",
    "results_df.style"
   ]
  },
  {
   "cell_type": "code",
   "execution_count": 5,
   "metadata": {},
   "outputs": [
    {
     "data": {
      "text/plain": [
       "array([1, 1, 1, 0, 1, 1, 1, 1, 1, 1, 0, 1, 1, 1, 0, 0, 0, 1, 0, 1, 1, 0,\n",
       "       0, 0, 0, 1, 1, 1, 1, 0, 1, 1, 1, 1, 0, 1, 1, 1, 1, 1, 1, 1, 1, 1,\n",
       "       1, 0, 0, 1, 1, 1, 1, 1, 0, 1, 1, 0, 0, 1, 0, 1, 0, 1, 0, 0, 1, 0,\n",
       "       1, 1, 1, 1, 0, 0, 0, 1, 1, 1, 1, 1, 0, 1, 1, 1, 0, 1, 1, 0, 1, 0,\n",
       "       1, 0, 1, 1, 1, 1, 1, 0, 1, 0, 1, 0, 1, 0, 1, 0, 0, 1, 1, 1, 1, 1,\n",
       "       0, 1, 0, 1, 0, 1, 0, 0, 0, 1, 0, 1, 1, 0, 1, 0, 1, 0, 0, 0, 1, 1,\n",
       "       1, 0, 1, 0, 0, 1, 1, 1, 1, 0, 1])"
      ]
     },
     "execution_count": 5,
     "metadata": {},
     "output_type": "execute_result"
    }
   ],
   "source": [
    "knn = KNN(2)\n",
    "knn.fit(X_train,Y_train)\n",
    "y_pred = knn.predict(X_test)\n",
    "y_pred"
   ]
  },
  {
   "cell_type": "code",
   "execution_count": 11,
   "metadata": {},
   "outputs": [
    {
     "data": {
      "image/png": "[encoded data removed]",
      "text/plain": [
       "<Figure size 640x480 with 2 Axes>"
      ]
     },
     "metadata": {},
     "output_type": "display_data"
    }
   ],
   "source": [
    "confusion_matrix = metrics.confusion_matrix(np.array(Y_test),y_pred)\n",
    "cm_display = metrics.ConfusionMatrixDisplay(confusion_matrix = confusion_matrix)\n",
    "\n",
    "ax= plt.subplot()\n",
    "sb.heatmap(confusion_matrix, annot=True, fmt='g', ax=ax,cmap='viridis')\n",
    "ax.set_xlabel('Predicted labels');ax.set_ylabel('True labels'); \n",
    "plt.title('Confusion matrix of Breast cancer (K=3)')\n",
    "plt.show()"
   ]
  }
 ],
 "metadata": {
  "kernelspec": {
   "display_name": "Python 3",
   "language": "python",
   "name": "python3"
  },
  "language_info": {
   "codemirror_mode": {
    "name": "ipython",
    "version": 3
   },
   "file_extension": ".py",
   "mimetype": "text/x-python",
   "name": "python",
   "nbconvert_exporter": "python",
   "pygments_lexer": "ipython3",
   "version": "3.11.8"
  }
 },
 "nbformat": 4,
 "nbformat_minor": 2
}
